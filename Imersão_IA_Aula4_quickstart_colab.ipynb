{
  "cells": [
    {
      "cell_type": "markdown",
      "metadata": {
        "id": "view-in-github",
        "colab_type": "text"
      },
      "source": [
        "<a href=\"https://colab.research.google.com/github/rliporonid/Imersao_Alura_Gemini/blob/main/Imers%C3%A3o_IA_Aula4_quickstart_colab.ipynb\" target=\"_parent\"><img src=\"https://colab.research.google.com/assets/colab-badge.svg\" alt=\"Open In Colab\"/></a>"
      ]
    },
    {
      "cell_type": "markdown",
      "metadata": {
        "id": "Tce3stUlHN0L"
      },
      "source": [
        "##### Copyright 2024 Google LLC."
      ]
    },
    {
      "cell_type": "code",
      "execution_count": null,
      "metadata": {
        "cellView": "form",
        "id": "tuOe1ymfHZPu"
      },
      "outputs": [],
      "source": [
        "#@title Licensed under the Apache License, Version 2.0 (the \"License\");\n",
        "# you may not use this file except in compliance with the License.\n",
        "# You may obtain a copy of the License at\n",
        "#\n",
        "# https://www.apache.org/licenses/LICENSE-2.0\n",
        "#\n",
        "# Unless required by applicable law or agreed to in writing, software\n",
        "# distributed under the License is distributed on an \"AS IS\" BASIS,\n",
        "# WITHOUT WARRANTIES OR CONDITIONS OF ANY KIND, either express or implied.\n",
        "# See the License for the specific language governing permissions and\n",
        "# limitations under the License."
      ]
    },
    {
      "cell_type": "markdown",
      "metadata": {
        "id": "-QhPWE1lwZHH"
      },
      "source": [
        "# Gemini API Python quickstart"
      ]
    },
    {
      "cell_type": "markdown",
      "metadata": {
        "id": "fa7c47ae6451"
      },
      "source": [
        "<table class=\"tfo-notebook-buttons\" align=\"left\">\n",
        "  <td>\n",
        "    <a target=\"_blank\" href=\"https://ai.google.dev/tutorials/quickstart_colab\"><img src=\"https://ai.google.dev/static/site-assets/images/docs/notebook-site-button.png\" height=\"32\" width=\"32\" />View on Google AI</a>\n",
        "  </td>\n",
        "  <td>\n",
        "    <a target=\"_blank\" href=\"https://colab.research.google.com/github/google/generative-ai-docs/blob/main/site/en/tutorials/quickstart_colab.ipynb\"><img src=\"https://www.tensorflow.org/images/colab_logo_32px.png\" />Run in Google Colab</a>\n",
        "  </td>\n",
        "  <td>\n",
        "    <a target=\"_blank\" href=\"https://github.com/google/generative-ai-docs/blob/main/site/en/tutorials/quickstart_colab.ipynb\"><img src=\"https://www.tensorflow.org/images/GitHub-Mark-32px.png\" />View source on GitHub</a>\n",
        "  </td>\n",
        "</table>"
      ]
    },
    {
      "cell_type": "markdown",
      "metadata": {
        "id": "db29b8d4247e"
      },
      "source": [
        "This tutorial shows you how to get started with the Gemini API using the Python SDK."
      ]
    },
    {
      "cell_type": "markdown",
      "metadata": {
        "id": "NNNg43Ymw54e"
      },
      "source": [
        "## Prerequisites\n",
        "\n",
        "You can run this tutorial in Google Colab, which doesn't require additional environment configuration.\n",
        "\n",
        "Alternatively, to complete this quickstart locally, see the Python guidance in [Get started with the Gemini API](https://ai.google.dev/tutorials/quickstart)."
      ]
    },
    {
      "cell_type": "markdown",
      "metadata": {
        "id": "kHkHARdb1ZID"
      },
      "source": [
        "## Install the SDK\n",
        "\n",
        "The Python SDK for the Gemini API is contained in the [`google-generativeai`](https://pypi.org/project/google-generativeai/) package. Install the dependency using pip:"
      ]
    },
    {
      "cell_type": "code",
      "execution_count": null,
      "metadata": {
        "id": "J6Pd9SFJ1yVi"
      },
      "outputs": [],
      "source": [
        "!pip install -q -U google-generativeai\n",
        "# -q para dar resultado quiet (não mostra rodando e não assunta usuários novos)\n",
        "# -U para fazer update, caso já tenha instalado"
      ]
    },
    {
      "cell_type": "markdown",
      "metadata": {
        "id": "EeMCtmx9ykyx"
      },
      "source": [
        "## Set up your API key\n",
        "\n",
        "To use the Gemini API, you'll need an API key. If you don't already have one, create a key in Google AI Studio.\n",
        "\n",
        "<a class=\"button\" href=\"https://aistudio.google.com/app/apikey\" target=\"_blank\" rel=\"noopener noreferrer\">Get an API key</a>\n",
        "\n",
        "In Colab, add the key to the secrets manager under the \"🔑\" in the left panel. Give it the name `GOOGLE_API_KEY`. Then pass the key to the SDK:"
      ]
    },
    {
      "cell_type": "code",
      "execution_count": null,
      "metadata": {
        "id": "HTiaTu6O1LRC"
      },
      "outputs": [],
      "source": [
        "# Import the Python SDK\n",
        "import google.generativeai as genai\n",
        "\n",
        "GOOGLE_API_KEY='chave aqui'\n",
        "genai.configure(api_key=GOOGLE_API_KEY) # criando um cliente do Gemini para usar daqui pra frente"
      ]
    },
    {
      "cell_type": "markdown",
      "metadata": {
        "id": "CZPYk29o2No0"
      },
      "source": [
        "## Initialize the Generative Model\n",
        "\n",
        "Before you can make any API calls, you need to initialize the Generative Model."
      ]
    },
    {
      "cell_type": "code",
      "execution_count": null,
      "metadata": {
        "id": "s-JqXcDe2hZ_"
      },
      "outputs": [],
      "source": [
        "model = genai.GenerativeModel('gemini-pro')"
      ]
    },
    {
      "cell_type": "markdown",
      "metadata": {
        "id": "nXxypzJH4MUl"
      },
      "source": [
        "## Generate text"
      ]
    },
    {
      "cell_type": "code",
      "execution_count": null,
      "metadata": {
        "id": "j51mcrLD4Y2W",
        "outputId": "1b0cfa61-c053-4c1e-f8c4-1dd64d667ee0",
        "colab": {
          "base_uri": "https://localhost:8080/",
          "height": 964
        }
      },
      "outputs": [
        {
          "output_type": "stream",
          "name": "stdout",
          "text": [
            "**Genética e Hereditariedade**\n",
            "\n",
            "**Tópicos:**\n",
            "\n",
            "* Conceitos básicos de genética (hereditariedade, genes, alelos)\n",
            "* Tipo de herança (dominante, recessivo, ligado ao sexo)\n",
            "* Padrões de herança (gráfico de heredograma, probabilidade)\n",
            "* Modificações genéticas (mutação, seleção natural, deriva genética)\n",
            "\n",
            "**Fisiologia Humana**\n",
            "\n",
            "**Tópicos:**\n",
            "\n",
            "* O sistema nervoso (células nervosas, sinapses, transmissão neural)\n",
            "* O sistema endócrino (glândulas, hormônios, feedback)\n",
            "* O sistema respiratório (pulmões, respiração, troca gasosa)\n",
            "* O sistema circulatório (coração, vasos sanguíneos, pressão arterial)\n",
            "\n",
            "**Biologia Celular**\n",
            "\n",
            "**Tópicos:**\n",
            "\n",
            "* Estrutura e função das células (núcleo, citoplasma, organelas)\n",
            "* Ciclo celular (mitose, meiose)\n",
            "* Transporte celular (difusão, osmose, transporte ativo)\n",
            "* Bioenergética (respiração celular, fotossíntese)\n",
            "\n",
            "**Ecologia**\n",
            "\n",
            "**Tópicos:**\n",
            "\n",
            "* Os ecossistemas (biomas, cadeia alimentar, ciclos biogeoquímicos)\n",
            "* Interações entre organismos (competição, predação, mutualismo)\n",
            "* Conservação da biodiversidade (perda de habitat, extinção)\n",
            "* Mudanças climáticas e impactos ambientais\n",
            "\n",
            "**Evolução**\n",
            "\n",
            "**Tópicos:**\n",
            "\n",
            "* Teoria da evolução de Darwin (seleção natural, variação, herança)\n",
            "* Mecanismos da evolução (mutação, deriva genética, fluxo gênico)\n",
            "* Evidências da evolução (fósseis, anatomia comparada, DNA)\n",
            "* Importância da evolução para a medicina e a agricultura\n",
            "\n",
            "**Biotecnologia**\n",
            "\n",
            "**Tópicos:**\n",
            "\n",
            "* Engenharia genética (DNA recombinante, transgênicos)\n",
            "* Clonagem (reprodução assexuada)\n",
            "* Aplicações biotecnológicas (medicina, indústria, agricultura)\n",
            "* Questões éticas e implicações sociais\n"
          ]
        }
      ],
      "source": [
        "response = model.generate_content(\"Sugira um tema de aula de biologia.\") # onde digita seu prompt\n",
        "print(response.text) # só quero a parte TEXT do que é gerado"
      ]
    },
    {
      "cell_type": "markdown",
      "metadata": {
        "id": "zUUAQS9u4biH"
      },
      "source": [
        "## What's next\n",
        "\n",
        "To learn more about working with the Gemini API, see the [Python tutorial](https://ai.google.dev/tutorials/python_quickstart).\n",
        "\n",
        "If you're new to generative AI models, you might want to look at the\n",
        "[concepts guide](https://ai.google.dev/docs/concepts) and the\n",
        "[Gemini API overview](https://ai.google.dev/docs/gemini_api_overview)."
      ]
    }
  ],
  "metadata": {
    "colab": {
      "provenance": [],
      "collapsed_sections": [
        "Tce3stUlHN0L"
      ],
      "include_colab_link": true
    },
    "kernelspec": {
      "display_name": "Python 3",
      "name": "python3"
    }
  },
  "nbformat": 4,
  "nbformat_minor": 0
}